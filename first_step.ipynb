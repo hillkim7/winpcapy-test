{
 "cells": [
  {
   "cell_type": "markdown",
   "metadata": {},
   "source": [
    "Device/Interface enumeration"
   ]
  },
  {
   "cell_type": "code",
   "execution_count": 6,
   "metadata": {},
   "outputs": [
    {
     "data": {
      "text/plain": [
       "{'\\\\Device\\\\NPF_{34F9CCAF-D0F5-415F-9BC2-A44DB3F8242B}': 'Microsoft',\n",
       " '\\\\Device\\\\NPF_{481368D3-CA31-45B4-9A2B-E35713E71A9F}': 'Microsoft',\n",
       " '\\\\Device\\\\NPF_{4BE94467-34AA-4F02-B722-9D6EAAA0092D}': 'Realtek PCIe GBE Family Controller',\n",
       " '\\\\Device\\\\NPF_{6F7A5A70-921F-470A-9B66-0DE1EF16D7BE}': 'Realtek USB NIC',\n",
       " '\\\\Device\\\\NPF_{7689BA18-75D4-4CE7-A246-96EED6F679BE}': 'Microsoft'}"
      ]
     },
     "execution_count": 6,
     "metadata": {},
     "output_type": "execute_result"
    }
   ],
   "source": [
    "from winpcapy import WinPcapDevices\n",
    "# Return a list of all the devices detected on the machine\n",
    "\"\"\" Output will be like this\n",
    "{'\\\\Device\\\\NPF_{34F9CCAF-D0F5-415F-9BC2-A44DB3F8242B}': 'Microsoft',\n",
    " '\\\\Device\\\\NPF_{4BE94467-34AA-4F02-B722-9D6EAAA0092D}': 'Realtek PCIe GBE Family Controller',\n",
    " '\\\\Device\\\\NPF_{6F7A5A70-921F-470A-9B66-0DE1EF16D7BE}': 'Realtek USB NIC'}\n",
    "\"\"\"\n",
    "WinPcapDevices.list_devices()"
   ]
  },
  {
   "cell_type": "markdown",
   "metadata": {},
   "source": [
    "Send raw packet to the device matching with \"*USB NIC*\""
   ]
  },
  {
   "cell_type": "code",
   "execution_count": 11,
   "metadata": {},
   "outputs": [
    {
     "name": "stdout",
     "output_type": "stream",
     "text": [
      "TX: 0017290888c700e04c6a0091a000b05200000000000000000000000000000000000000cce4aeab59cc0000800e00290888c700e04c6a0091\n"
     ]
    }
   ],
   "source": [
    "from winpcapy import WinPcapUtils\n",
    "# Build a packet buffer\n",
    "# This example-code is built for tutorial purposes, for actual packet crafting use modules like dpkt\n",
    "dst_mac = \"0017290888c7\"\n",
    "src_mac = \"00e04c6a0091\"\n",
    "mac_payload = \\\n",
    "    \"a000b052000000000000000000000000\" \\\n",
    "    \"00000000000000cce4aeab59cc000080\" \\\n",
    "    \"0e00290888c700e04c6a0091\"\n",
    "\n",
    "hpgp_ver_req_template = \"%(dst_mac)s%(src_mac)s\" \\\n",
    "                           \"%(mac_payload)s\"\n",
    "packet = hpgp_ver_req_template % {\n",
    "    \"dst_mac\": dst_mac,\n",
    "    \"src_mac\": src_mac,\n",
    "    \"mac_payload\": mac_payload\n",
    "}\n",
    "print(\"TX:\", packet)\n",
    "# Send the packet (ethernet frame with an arp request) on the interface\n",
    "bin_packet = bytes.fromhex(packet)\n",
    "WinPcapUtils.send_packet(\"*USB NIC*\", bin_packet)"
   ]
  },
  {
   "cell_type": "code",
   "execution_count": null,
   "metadata": {},
   "outputs": [],
   "source": [
    "from winpcapy import WinPcapUtils\n",
    "# Build a packet buffer\n",
    "# This example-code is built for tutorial purposes, for actual packet crafting use modules like dpkt\n",
    "def ipstr_to_hex(ipstr):\n",
    "    a = ipstr.split('.')\n",
    "    return '{:02x}{:02x}{:02x}{:02x}'.format(*map(int, a))\n",
    "dst_mac = \"00E04C8A0038\"\n",
    "src_mac = \"00e04c6a0091\"\n",
    "sender_ip = ipstr_to_hex('192.168.1.100')\n",
    "target_ip = ipstr_to_hex('192.168.1.5')\n",
    "print(\"IP: %s->%s\", sender_ip, target_ip)\n",
    "arp_request_hex_template = \"%(dst_mac)s%(src_mac)s08060001080006040001\" \\\n",
    "                           \"%(sender_mac)s%(sender_ip)s%(target_mac)s%(target_ip)s\" + \"00\" * 18\n",
    "packet = arp_request_hex_template % {\n",
    "    \"dst_mac\": dst_mac,\n",
    "    \"src_mac\": src_mac,\n",
    "    \"sender_mac\": src_mac,\n",
    "    \"target_mac\": dst_mac,\n",
    "    \"sender_ip\": sender_ip,\n",
    "    \"target_ip\": target_ip\n",
    "}\n",
    "print(\"TX:\", packet)\n",
    "bin_packet = bytes.fromhex(packet)\n",
    "WinPcapUtils.send_packet(\"*USB NIC*\", bin_packet)"
   ]
  },
  {
   "cell_type": "code",
   "execution_count": null,
   "metadata": {},
   "outputs": [],
   "source": []
  }
 ],
 "metadata": {
  "kernelspec": {
   "display_name": "Python 3",
   "language": "python",
   "name": "python3"
  },
  "language_info": {
   "codemirror_mode": {
    "name": "ipython",
    "version": 3
   },
   "file_extension": ".py",
   "mimetype": "text/x-python",
   "name": "python",
   "nbconvert_exporter": "python",
   "pygments_lexer": "ipython3",
   "version": "3.6.4"
  }
 },
 "nbformat": 4,
 "nbformat_minor": 2
}
